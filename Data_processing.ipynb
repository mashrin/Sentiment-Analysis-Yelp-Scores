{
  "cells": [
    {
      "cell_type": "code",
      "execution_count": null,
      "metadata": {
        "colab": {
          "base_uri": "https://localhost:8080/"
        },
        "id": "T2tkrOUCRhyz",
        "outputId": "c4d050fe-7cba-4b04-99af-23dde9fc7f4b"
      },
      "outputs": [
        {
          "name": "stdout",
          "output_type": "stream",
          "text": [
            "Mounted at /content/gdrive/\n"
          ]
        }
      ],
      "source": [
        "from google.colab import drive\n",
        "from tqdm import tqdm_notebook as tqdm\n",
        "\n",
        "drive.mount('/content/gdrive/', force_remount=True)"
      ]
    },
    {
      "cell_type": "code",
      "execution_count": null,
      "metadata": {
        "colab": {
          "base_uri": "https://localhost:8080/"
        },
        "id": "mnMkvWVzRkI4",
        "outputId": "82d9d666-ac03-4c99-dfb2-c779f28eb252"
      },
      "outputs": [
        {
          "name": "stdout",
          "output_type": "stream",
          "text": [
            "/content/gdrive/MyDrive/10701-project\n"
          ]
        }
      ],
      "source": [
        "%cd /content/gdrive/MyDrive/'10701-project'"
      ]
    },
    {
      "cell_type": "code",
      "execution_count": null,
      "metadata": {
        "id": "lkSWAZvgRqXR"
      },
      "outputs": [],
      "source": [
        "import pandas as pd\n",
        "\n",
        "data = pd.read_csv(\"Yelp_train.csv\")\n",
        "# data = data[final_columns]"
      ]
    },
    {
      "cell_type": "code",
      "execution_count": null,
      "metadata": {
        "colab": {
          "base_uri": "https://localhost:8080/"
        },
        "id": "UEVWbOcjwSdN",
        "outputId": "50ff1d5f-e02a-42cc-c68e-3210741e4d57"
      },
      "outputs": [
        {
          "name": "stdout",
          "output_type": "stream",
          "text": [
            "['stars' 'name' 'text' 'date' 'useful' 'funny' 'cool' 'city' 'longitude'\n",
            " 'latitude' 'categories' 'nchar' 'nword' 'sentiment_score' 'gem'\n",
            " 'incredible' 'perfection' 'phenomenal' 'divine' 'die' 'highly' 'superb'\n",
            " 'heaven' 'amazing' 'favorites' 'sourced' 'perfect' 'knowledgeable'\n",
            " 'gross' 'poorly' 'response' 'flavorless' 'waste' 'terrible' 'tasteless'\n",
            " 'rude' 'awful' 'inedible' 'horrible' 'apology' 'disgusting' 'worst']\n"
          ]
        }
      ],
      "source": [
        "print(data.columns.values)\n",
        "final_columns = [\"useful\", \"funny\", \"cool\", \"date\",\"categories\", \"text\", \"stars\", \"sentiment_score\"]"
      ]
    },
    {
      "cell_type": "code",
      "execution_count": null,
      "metadata": {
        "id": "FPdn5WSzSifm"
      },
      "outputs": [],
      "source": [
        "import ast\n",
        "cat = []\n",
        "for x in data[\"categories\"].values:\n",
        "  x = ast.literal_eval(x)\n",
        "  x = [n.strip() for n in x]\n",
        "  cat += [y.lower() for y in x]\n",
        "cat = list(set(cat))"
      ]
    },
    {
      "cell_type": "code",
      "execution_count": null,
      "metadata": {
        "id": "wiGIGeRjTpVW"
      },
      "outputs": [],
      "source": [
        "caidx = {}\n",
        "for id, ca in enumerate(cat):\n",
        "  caidx[ca] = id"
      ]
    },
    {
      "cell_type": "code",
      "execution_count": null,
      "metadata": {
        "id": "xSJMwVxeTBiB"
      },
      "outputs": [],
      "source": [
        "import numpy as np \n",
        "import time\n",
        "cat_vec = [np.zeros(len(cat), dtype=int) for i in range(len(data))]\n",
        "data[\"cat_vec\"] = cat_vec\n",
        "for id, row in data.iterrows():\n",
        "  x = ast.literal_eval(data.loc[id][\"categories\"])\n",
        "  x = [n.strip().lower() for n in x]\n",
        "  # print(x)\n",
        "  data.loc[id][\"date\"] = time.mktime(datetime.datetime.strptime(row[\"date\"], \"%Y-%m-%d\")\n",
        "  for ca in cat:\n",
        "    if ca in x:\n",
        "      # print(\"yes\")\n",
        "      data.loc[id][\"cat_vec\"][caidx[ca]] = 1"
      ]
    },
    {
      "cell_type": "code",
      "execution_count": null,
      "metadata": {
        "id": "mh-a174uWDZk"
      },
      "outputs": [],
      "source": [
        "from sklearn.preprocessing import normalize\n",
        "\n",
        "lalo = data[[\"date\"]].values\n",
        "lalo = normalize(lalo, norm='l2', axis=0)\n",
        "data[[\"date\"]] = lalo"
      ]
    },
    {
      "cell_type": "code",
      "execution_count": null,
      "metadata": {
        "id": "qxHF70MSWfUf"
      },
      "outputs": [],
      "source": [
        "data = data.drop('categories', 1)\n",
        "data[\"dense_feats\"] = data.apply(lambda x: \"%d %d %d \"%(x[\"useful\"],x[\"funny\"],x [\"cool\"]) + \"%f \"%(x[\"date\"]) + \" \".join(np.char.mod('%d', x[\"cat_vec\"])), axis = 1)"
      ]
    },
    {
      "cell_type": "code",
      "execution_count": null,
      "metadata": {
        "id": "d516tq4VWkDo"
      },
      "outputs": [],
      "source": [
        "if True:\n",
        "  import pandas as pd\n",
        "  train, validate, test = \\\n",
        "              np.split(data.sample(frac=1, random_state=42), \n",
        "                       [int(.7*len(data)), int(.85*len(data))])\n",
        "\n",
        "  train.to_csv(\"processed_data/train.csv\", index=False)\n",
        "  validate.to_csv(\"processed_data/test.csv\", index=False)\n",
        "  test.to_csv(\"processed_data/val.csv\", index=False)"
      ]
    },
    {
      "cell_type": "code",
      "execution_count": null,
      "metadata": {
        "id": "5VWgeUZJXTV3"
      },
      "outputs": [],
      "source": [
        "train_data.loc[data['stars'] <= 3, 'stars'] = 0\n",
        "test_data.loc[data['stars'] <= 3, 'stars'] = 0\n",
        "train_data.loc[data['stars'] > 3, 'stars'] = 1\n",
        "test_data.loc[data['stars'] > 3, 'stars'] = 1"
      ]
    },
    {
      "cell_type": "code",
      "execution_count": null,
      "metadata": {
        "id": "nf9qJa2HXbcj"
      },
      "outputs": [],
      "source": [
        "if True:\n",
        "  train.to_csv(\"binary_data/train.csv\", index=False)\n",
        "  test.to_csv(\"binary_data/test.csv\", index=False)\n",
        "  test.to_csv(\"binary_data/val.csv\", index=False)"
      ]
    }
  ],
  "metadata": {
    "colab": {
      "collapsed_sections": [],
      "name": "data_processing.ipynb",
      "provenance": []
    },
    "kernelspec": {
      "display_name": "Python 3",
      "name": "python3"
    },
    "language_info": {
      "name": "python"
    }
  },
  "nbformat": 4,
  "nbformat_minor": 0
}
