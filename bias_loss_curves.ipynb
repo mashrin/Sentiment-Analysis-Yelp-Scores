{
 "cells": [
  {
   "cell_type": "code",
   "execution_count": 11,
   "metadata": {},
   "outputs": [],
   "source": [
    "from packaging import version\n",
    "\n",
    "import pandas as pd\n",
    "from matplotlib import pyplot as plt\n",
    "import seaborn as sns\n",
    "from scipy import stats\n",
    "import tensorboard as tb\n",
    "from tensorflow.python.summary.summary_iterator import summary_iterator\n",
    "import tensorflow as tf"
   ]
  },
  {
   "cell_type": "code",
   "execution_count": 33,
   "metadata": {},
   "outputs": [],
   "source": [
    "id = 0\n",
    "eval_loss = []\n",
    "train_loss = []\n",
    "for summary in summary_iterator(\"Dec08_07-49-01_ip-172-31-18-169/events.out.tfevents.1638949741.ip-172-31-18-169\"):\n",
    "    # print(summary)\n",
    "    if id == 0:\n",
    "        id += 1\n",
    "        continue\n",
    "    for v in summary.summary.value:\n",
    "        if v.tag == 'eval_loss':\n",
    "            eval_loss.append(v.simple_value)\n",
    "        if v.tag == 'loss':\n",
    "            train_loss.append(v.simple_value)"
   ]
  },
  {
   "cell_type": "code",
   "execution_count": 44,
   "metadata": {},
   "outputs": [
    {
     "data": {
      "image/png": "[encoded data removed]",
      "text/plain": [
       "<Figure size 432x288 with 1 Axes>"
      ]
     },
     "metadata": {
      "needs_background": "light"
     },
     "output_type": "display_data"
    }
   ],
   "source": [
    "import matplotlib.pyplot as plt \n",
    "from scipy.interpolate import make_interp_spline\n",
    "\n",
    "\n",
    "\n",
    "X_Y_Spline = make_interp_spline(np.arange(len(train_loss)), train_loss)\n",
    " \n",
    "# Returns evenly spaced numbers\n",
    "# over a specified interval.\n",
    "X_ = np.linspace(np.arange(len(train_loss)).min(), np.arange(len(train_loss)).max(), 15)\n",
    "Y_ = X_Y_Spline(X_)\n",
    "plt.plot(X_, Y_, label  = \"Train Loss\")\n",
    "\n",
    "X_Y_Spline = make_interp_spline(np.arange(len(eval_loss)), eval_loss)\n",
    " \n",
    "# Returns evenly spaced numbers\n",
    "# over a specified interval.\n",
    "X_ = np.linspace(np.arange(len(eval_loss)).min(), np.arange(len(eval_loss)).max(), 15)\n",
    "Y_ = X_Y_Spline(X_)\n",
    "plt.plot(X_, Y_, label  = \"Validation Loss\")\n",
    "\n",
    "\n",
    "# plt.plot(np.arange(len(eval_loss)), eval_loss, label  = \"Validation Loss\")\n",
    "\n",
    "plt.legend()\n",
    "plt.xlabel(\"1K steps\")\n",
    "plt.ylabel(\"Loss\")\n",
    "plt.savefig(\"loss_curve.png\", dpi=240)\n",
    "plt.show()"
   ]
  },
  {
   "cell_type": "code",
   "execution_count": 45,
   "metadata": {},
   "outputs": [],
   "source": [
    "import pandas as pd \n",
    "\n",
    "d1 = pd.read_csv(\"binary_data/train.csv\")\n",
    "d2 = pd.read_csv(\"binary_data/test.csv\")"
   ]
  },
  {
   "cell_type": "code",
   "execution_count": 51,
   "metadata": {},
   "outputs": [],
   "source": [
    "from collections import Counter as c"
   ]
  },
  {
   "cell_type": "code",
   "execution_count": 93,
   "metadata": {},
   "outputs": [],
   "source": [
    "bd = {}\n",
    "\n",
    "for i in range(0, 11):\n",
    "    # if i*60 not in bd:\n",
    "        bd[i] = {\"preds\": [], \"gts\": []}\n",
    "td = dict(c(d1[\"name\"].values))\n",
    "m = {}\n",
    "for name in td:\n",
    "    m[name] = int(td[name] / 60)"
   ]
  },
  {
   "cell_type": "code",
   "execution_count": 94,
   "metadata": {},
   "outputs": [],
   "source": [
    "tf = pd.read_csv(\"binary_data/test.csv\")\n",
    "preds = pd.read_csv(\"binary_data/predictions.csv\")\n",
    "\n",
    "for id, row in tf.iterrows():\n",
    "    if row[\"name\"] not in m:\n",
    "        bd[0][\"preds\"].append(preds.loc[id].values[0]) \n",
    "        bd[0][\"gts\"].append(row[\"stars\"]) \n",
    "    else:  \n",
    "        bd[m[row[\"name\"]]][\"preds\"].append(preds.loc[id].values[0])\n",
    "        bd[m[row[\"name\"]]][\"gts\"].append(row[\"stars\"])"
   ]
  },
  {
   "cell_type": "code",
   "execution_count": 98,
   "metadata": {},
   "outputs": [
    {
     "name": "stderr",
     "output_type": "stream",
     "text": [
      "/opt/homebrew/Caskroom/miniforge/base/lib/python3.9/site-packages/numpy/lib/function_base.py:380: RuntimeWarning: Mean of empty slice.\n",
      "  avg = a.mean(axis)\n",
      "/opt/homebrew/Caskroom/miniforge/base/lib/python3.9/site-packages/numpy/core/_methods.py:189: RuntimeWarning: invalid value encountered in double_scalars\n",
      "  ret = ret.dtype.type(ret / rcount)\n",
      "/opt/homebrew/Caskroom/miniforge/base/lib/python3.9/site-packages/numpy/lib/function_base.py:380: RuntimeWarning: Mean of empty slice.\n",
      "  avg = a.mean(axis)\n",
      "/opt/homebrew/Caskroom/miniforge/base/lib/python3.9/site-packages/numpy/core/_methods.py:189: RuntimeWarning: invalid value encountered in double_scalars\n",
      "  ret = ret.dtype.type(ret / rcount)\n",
      "/opt/homebrew/Caskroom/miniforge/base/lib/python3.9/site-packages/numpy/lib/function_base.py:380: RuntimeWarning: Mean of empty slice.\n",
      "  avg = a.mean(axis)\n",
      "/opt/homebrew/Caskroom/miniforge/base/lib/python3.9/site-packages/numpy/core/_methods.py:189: RuntimeWarning: invalid value encountered in double_scalars\n",
      "  ret = ret.dtype.type(ret / rcount)\n",
      "/opt/homebrew/Caskroom/miniforge/base/lib/python3.9/site-packages/numpy/lib/function_base.py:380: RuntimeWarning: Mean of empty slice.\n",
      "  avg = a.mean(axis)\n",
      "/opt/homebrew/Caskroom/miniforge/base/lib/python3.9/site-packages/numpy/core/_methods.py:189: RuntimeWarning: invalid value encountered in double_scalars\n",
      "  ret = ret.dtype.type(ret / rcount)\n",
      "/opt/homebrew/Caskroom/miniforge/base/lib/python3.9/site-packages/numpy/lib/function_base.py:380: RuntimeWarning: Mean of empty slice.\n",
      "  avg = a.mean(axis)\n",
      "/opt/homebrew/Caskroom/miniforge/base/lib/python3.9/site-packages/numpy/core/_methods.py:189: RuntimeWarning: invalid value encountered in double_scalars\n",
      "  ret = ret.dtype.type(ret / rcount)\n"
     ]
    }
   ],
   "source": [
    "from sklearn.metrics import accuracy_score\n",
    "accs = []\n",
    "xs = []\n",
    "for i in range(0, 11):\n",
    "    accs.append(accuracy_score(bd[i][\"gts\"], bd[i][\"preds\"]))\n",
    "    xs.append(i+0.5)"
   ]
  },
  {
   "cell_type": "code",
   "execution_count": 108,
   "metadata": {},
   "outputs": [
    {
     "data": {
      "image/png": "[encoded data removed]",
      "text/plain": [
       "<Figure size 720x360 with 1 Axes>"
      ]
     },
     "metadata": {
      "needs_background": "light"
     },
     "output_type": "display_data"
    }
   ],
   "source": [
    "\n",
    "# # creating the dataset\n",
    "# data = {'C':20, 'C++':15, 'Java':30,\n",
    "#         'Python':35}\n",
    "# courses = list(data.keys())\n",
    "# values = list(data.values())\n",
    "  \n",
    "fig = plt.figure(figsize = (10, 5))\n",
    " \n",
    "# creating the bar plot\n",
    "plt.bar(xs, accs,\n",
    "        width = 0.6)\n",
    " \n",
    "plt.xlabel(\"Number of training examples (*60)\")\n",
    "plt.ylabel(\"Test Accuracy\")\n",
    "# plt.title(\"Students enrolled in different courses\")\n",
    "plt.savefig(\"balance.png\", dpi=240)\n",
    "plt.show()"
   ]
  }
 ],
 "metadata": {
  "interpreter": {
   "hash": "c6e4e9f98eb68ad3b7c296f83d20e6de614cb42e90992a65aa266555a3137d0d"
  },
  "kernelspec": {
   "display_name": "Python 3.9.7 64-bit ('base': conda)",
   "language": "python",
   "name": "python3"
  },
  "language_info": {
   "codemirror_mode": {
    "name": "ipython",
    "version": 3
   },
   "file_extension": ".py",
   "mimetype": "text/x-python",
   "name": "python",
   "nbconvert_exporter": "python",
   "pygments_lexer": "ipython3",
   "version": "3.9.7"
  },
  "orig_nbformat": 4
 },
 "nbformat": 4,
 "nbformat_minor": 2
}
