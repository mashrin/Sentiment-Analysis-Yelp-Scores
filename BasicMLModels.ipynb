{
  "cells": [
    {
      "cell_type": "code",
      "execution_count": null,
      "metadata": {
        "colab": {
          "base_uri": "https://localhost:8080/"
        },
        "id": "qIL6LrJHu8ES",
        "outputId": "0184d9ab-dfaa-4b7d-cd18-c14ee8fd5b53"
      },
      "outputs": [
        {
          "name": "stdout",
          "output_type": "stream",
          "text": [
            "Mounted at /content/gdrive/\n"
          ]
        }
      ],
      "source": [
        "from google.colab import drive\n",
        "from tqdm import tqdm_notebook as tqdm\n",
        "\n",
        "drive.mount('/content/gdrive/', force_remount=True)"
      ]
    },
    {
      "cell_type": "code",
      "execution_count": null,
      "metadata": {
        "id": "XiE2riMy56_C"
      },
      "outputs": [],
      "source": [
        "import matplotlib.pyplot as plt\n",
        "from collections import Counter as C"
      ]
    },
    {
      "cell_type": "code",
      "execution_count": null,
      "metadata": {
        "colab": {
          "base_uri": "https://localhost:8080/"
        },
        "id": "7bjlDsd4xx7X",
        "outputId": "0c7748b0-037a-4e68-9fe8-eb92ad76e95e"
      },
      "outputs": [
        {
          "name": "stdout",
          "output_type": "stream",
          "text": [
            "[Errno 2] No such file or directory: '/content/gdrive/MyDrive/10701'\n",
            "/content\n"
          ]
        }
      ],
      "source": [
        "%cd /content/gdrive/MyDrive/'10701-project'"
      ]
    },
    {
      "cell_type": "code",
      "execution_count": null,
      "metadata": {
        "id": "TbzTMrQzYSNY"
      },
      "outputs": [],
      "source": [
        "def text_process(text):\n",
        "    nopunc = [char for char in text if char not in string.punctuation]\n",
        "    nopunc = ''.join(nopunc)\n",
        "    return [word for word in nopunc.split() if word.lower() not in stopwords.words('english')]"
      ]
    },
    {
      "cell_type": "markdown",
      "metadata": {},
      "source": [
        "## Classifiers"
      ]
    },
    {
      "cell_type": "code",
      "execution_count": null,
      "metadata": {},
      "outputs": [],
      "source": [
        "from sklearn.ensemble import RandomForestClassifier\n",
        "from sklearn.tree import DecisionTreeClassifier\n",
        "from sklearn.svm import SVC\n",
        "from sklearn.ensemble import GradientBoostingClassifier\n",
        "from sklearn.neighbors import KNeighborsClassifier\n",
        "from sklearn.neural_network import MLPClassifier\n",
        "from sklearn.metrics import classification_report, accuracy_score"
      ]
    },
    {
      "cell_type": "code",
      "execution_count": null,
      "metadata": {},
      "outputs": [],
      "source": [
        "def rf_clf(x, y):\n",
        "    rmfr = RandomForestClassifier(random_state=101)\n",
        "    rmfr.fit(x,y)\n",
        "    return rmfr\n",
        "\n",
        "def dt_clf(x,y):\n",
        "    dt = DecisionTreeClassifier(random_state=101)\n",
        "    dt.fit(x,y)\n",
        "    return dt\n",
        "\n",
        "def svm_clf(x,y):\n",
        "    svm = SVC(random_state=101)\n",
        "    svm.fit(x,y)\n",
        "    return svm\n",
        "    \n",
        "def gb_clf(x,y):\n",
        "    gbi = GradientBoostingClassifier(learning_rate=0.1,max_depth=5,max_features=0.5,random_state=999999)\n",
        "    gbi.fit(x,y)\n",
        "    return gbi\n",
        "\n",
        "def knn_clf(x,y):\n",
        "    knn = KNeighborsClassifier(n_neighbors=10)\n",
        "    knn.fit(x,y)\n",
        "    return knn\n",
        "\n",
        "def mlp_clf(x,y):\n",
        "    mlp = MLPClassifier()\n",
        "    mlp.fit(x,y)\n",
        "    return mlp"
      ]
    },
    {
      "cell_type": "markdown",
      "metadata": {
        "id": "z3iqIjpJYBdM"
      },
      "source": [
        "## Text only Models"
      ]
    },
    {
      "cell_type": "code",
      "execution_count": null,
      "metadata": {
        "id": "9H7k1dI3YA4i"
      },
      "outputs": [],
      "source": [
        "import pandas as pd\n",
        "### For 5-star just change the data \n",
        "train_data = pd.read_csv(\"./binary_data/train.csv\")\n",
        "test_data = pd.read_csv(\"./binary_data/test.csv\")"
      ]
    },
    {
      "cell_type": "code",
      "execution_count": null,
      "metadata": {
        "id": "8pip0jP3YMRe"
      },
      "outputs": [],
      "source": [
        "x = train_data.values[:, 2]\n",
        "y = train_data.values[:, 0]"
      ]
    },
    {
      "cell_type": "code",
      "execution_count": null,
      "metadata": {
        "colab": {
          "base_uri": "https://localhost:8080/"
        },
        "id": "-gxZxqoeYvtX",
        "outputId": "62838cc3-b533-494c-ad0d-e1792b23fc3e"
      },
      "outputs": [
        {
          "name": "stdout",
          "output_type": "stream",
          "text": [
            "[nltk_data] Downloading package stopwords to /root/nltk_data...\n",
            "[nltk_data]   Unzipping corpora/stopwords.zip.\n"
          ]
        },
        {
          "data": {
            "text/plain": [
              "True"
            ]
          },
          "execution_count": 13,
          "metadata": {},
          "output_type": "execute_result"
        }
      ],
      "source": [
        "import nltk\n",
        "nltk.download('stopwords')"
      ]
    },
    {
      "cell_type": "code",
      "execution_count": null,
      "metadata": {
        "colab": {
          "base_uri": "https://localhost:8080/"
        },
        "id": "wl7_jc19YPFi",
        "outputId": "a3566a57-b0ef-495f-b8ed-73b5612f2951"
      },
      "outputs": [],
      "source": [
        "from sklearn.feature_extraction.text import TfidfVectorizer\n",
        "import string\n",
        "from nltk.corpus import stopwords\n",
        "vocab = TfidfVectorizer(analyzer=text_process).fit(x)"
      ]
    },
    {
      "cell_type": "code",
      "execution_count": null,
      "metadata": {
        "colab": {
          "base_uri": "https://localhost:8080/"
        },
        "id": "W8D3ATZcaxst",
        "outputId": "9d636268-1fad-48a8-92c1-ee361d35244d"
      },
      "outputs": [
        {
          "name": "stdout",
          "output_type": "stream",
          "text": [
            "Shape of the sparse matrix:  (31188, 62243)\n",
            "Non-Zero occurences:  1622860\n",
            "Density of the matrix =  0.08359937174911923\n"
          ]
        }
      ],
      "source": [
        "x = vocab.transform(x)\n",
        "print(\"Shape of the sparse matrix: \", x.shape)\n",
        "print(\"Non-Zero occurences: \",x.nnz)\n",
        "density = (x.nnz/(x.shape[0]*x.shape[1]))*100\n",
        "print(\"Density of the matrix = \",density)"
      ]
    },
    {
      "cell_type": "code",
      "execution_count": null,
      "metadata": {
        "colab": {
          "base_uri": "https://localhost:8080/"
        },
        "id": "l_SFyAzUcd9X",
        "outputId": "3e941358-746e-467d-e077-2f4ad0f983ed"
      },
      "outputs": [
        {
          "name": "stdout",
          "output_type": "stream",
          "text": [
            "Shape of the sparse matrix:  (5504, 62243)\n",
            "Non-Zero occurences:  281132\n",
            "Density of the matrix =  0.08206185696047263\n"
          ]
        }
      ],
      "source": [
        "x_test = test_data.values[:, 2]\n",
        "y_test = test_data.values[:, 0]\n",
        "x_test = vocab.transform(x_test)\n",
        "#Shape of the matrix:\n",
        "print(\"Shape of the sparse matrix: \", x_test.shape)\n",
        "#Non-zero occurences:\n",
        "print(\"Non-Zero occurences: \",x_test.nnz)\n",
        "\n",
        "# DENSITY OF THE MATRIX\n",
        "density = (x_test.nnz/(x_test.shape[0]*x_test.shape[1]))*100\n",
        "print(\"Density of the matrix = \",density)"
      ]
    },
    {
      "cell_type": "code",
      "execution_count": null,
      "metadata": {
        "colab": {
          "base_uri": "https://localhost:8080/"
        },
        "id": "nrQCKQqCdH0z",
        "outputId": "2e79c4bf-1e0a-4de0-a523-647fe7dc527f"
      },
      "outputs": [],
      "source": [
        "rmfr = rf_clf(x,y)\n",
        "predrmfr = rmfr.predict(x_test)\n",
        "print(\"Confusion Matrix for Random Forest Classifier:\")\n",
        "print(confusion_matrix(y_test,predrmfr))\n",
        "print(\"Score:\",round(accuracy_score(y_test,predrmfr)*100,2))\n",
        "print(\"Classification Report:\",classification_report(y_test,predrmfr))"
      ]
    },
    {
      "cell_type": "code",
      "execution_count": null,
      "metadata": {
        "colab": {
          "base_uri": "https://localhost:8080/"
        },
        "id": "KrVeSv0MdeAd",
        "outputId": "ea2cbd44-3bf8-4d50-ba2f-04f3c05b20a1"
      },
      "outputs": [],
      "source": [
        "dt = dt_clf(x,y)\n",
        "preddt = dt.predict(x_test)\n",
        "print(\"Confusion Matrix for Decision Tree:\")\n",
        "print(confusion_matrix(y_test,preddt))\n",
        "print(\"Score:\",round(accuracy_score(y_test,preddt)*100,2))\n",
        "print(\"Classification Report:\",classification_report(y_test,preddt))"
      ]
    },
    {
      "cell_type": "code",
      "execution_count": null,
      "metadata": {
        "colab": {
          "base_uri": "https://localhost:8080/"
        },
        "id": "9y-IkT5AdiRj",
        "outputId": "b2ef81a1-8b6f-4390-d273-b990dc1f09a6"
      },
      "outputs": [],
      "source": [
        "svm = svm_clf(x,y)\n",
        "predsvm = svm.predict(x_test)\n",
        "print(\"Confusion Matrix for Support Vector Machines:\")\n",
        "print(confusion_matrix(y_test,predsvm))\n",
        "print(\"Score:\",round(accuracy_score(y_test,predsvm)*100,2))\n",
        "print(\"Classification Report:\",classification_report(y_test,predsvm))"
      ]
    },
    {
      "cell_type": "code",
      "execution_count": null,
      "metadata": {
        "colab": {
          "base_uri": "https://localhost:8080/"
        },
        "id": "kvWUnpnjdpYF",
        "outputId": "603880dc-07fa-4557-de8e-d9c16b2f2c62"
      },
      "outputs": [],
      "source": [
        "gbi = gb_clf(x,y)\n",
        "predgbi = gbi.predict(x_test)\n",
        "print(\"Confusion Matrix for Gradient Boosting Classifier:\")\n",
        "print(confusion_matrix(y_test,predgbi))\n",
        "print(\"Score:\",round(accuracy_score(y_test,predgbi)*100,2))\n",
        "print(\"Classification Report:\",classification_report(y_test,predgbi))"
      ]
    },
    {
      "cell_type": "code",
      "execution_count": null,
      "metadata": {
        "colab": {
          "base_uri": "https://localhost:8080/"
        },
        "id": "ozDe7tT1dt8l",
        "outputId": "923a3865-62da-4629-ca61-a8e15d579256"
      },
      "outputs": [],
      "source": [
        "knn = knn_clf(x,y)\n",
        "predknn = knn.predict(x_test)\n",
        "print(\"Confusion Matrix for K Neighbors Classifier:\")\n",
        "print(confusion_matrix(y_test,predknn))\n",
        "print(\"Score: \",round(accuracy_score(y_test,predknn)*100,2))\n",
        "print(\"Classification Report:\")\n",
        "print(classification_report(y_test,predknn))"
      ]
    },
    {
      "cell_type": "code",
      "execution_count": null,
      "metadata": {
        "colab": {
          "base_uri": "https://localhost:8080/"
        },
        "id": "EVQI-w-mdyJG",
        "outputId": "f72ba2b6-8544-4080-bdbf-ce4908821be8"
      },
      "outputs": [],
      "source": [
        "mlp = mlp_clf(x,y)\n",
        "predmlp = mlp.predict(x_test)\n",
        "print(\"Confusion Matrix for Multilayer Perceptron Classifier:\")\n",
        "print(confusion_matrix(y_test,predmlp))\n",
        "print(\"Score:\",round(accuracy_score(y_test,predmlp)*100,2))\n",
        "print(\"Classification Report:\")\n",
        "print(classification_report(y_test,predmlp))"
      ]
    },
    {
      "cell_type": "markdown",
      "metadata": {
        "id": "tJLCgay8M9NW"
      },
      "source": [
        "## Meta and All features classification"
      ]
    },
    {
      "cell_type": "code",
      "execution_count": null,
      "metadata": {
        "colab": {
          "base_uri": "https://localhost:8080/"
        },
        "id": "rulfQMS5QTQI",
        "outputId": "4296057f-b624-4e28-ed85-9a508fbaafc8"
      },
      "outputs": [
        {
          "name": "stdout",
          "output_type": "stream",
          "text": [
            "[nltk_data] Downloading package stopwords to /root/nltk_data...\n",
            "[nltk_data]   Unzipping corpora/stopwords.zip.\n"
          ]
        }
      ],
      "source": [
        "import pickle \n",
        "import string\n",
        "from nltk.corpus import stopwords\n",
        "import nltk \n",
        "nltk.download('stopwords')\n",
        "## Preloaded tfidf vectorizer\n",
        "with open(\"vectorizer.pkl\", \"rb\") as fin:\n",
        "  vocab = pickle.load(fin)"
      ]
    },
    {
      "cell_type": "code",
      "execution_count": null,
      "metadata": {
        "id": "fHTwfrfUNv04"
      },
      "outputs": [],
      "source": [
        "## All features\n",
        "x_train_feat = train_data[[\"useful\", \"funny\", \"cool\", \"date\"]].values\n",
        "x_train_cats = np.array([[int(x) for x in y.replace(\"[\", \"\").replace(\"]\", \"\").replace(\"\\n\", \"\").split()] for y in train_data[\"cat_vec\"].values])\n",
        "x_train = np.concatenate((x_train_feat, x_train_cats), axis = 1)\n",
        "\n",
        "x_test_feat = test_data[[\"useful\", \"funny\", \"cool\", \"date\"]].values\n",
        "x_test_cats = np.array([[int(x) for x in y.replace(\"[\", \"\").replace(\"]\", \"\").replace(\"\\n\", \"\").split()] for y in test_data[\"cat_vec\"].values])\n",
        "x_test = np.concatenate((x_test_feat, x_test_cats), axis = 1)"
      ]
    },
    {
      "cell_type": "code",
      "execution_count": null,
      "metadata": {
        "colab": {
          "base_uri": "https://localhost:8080/",
          "height": 215
        },
        "id": "sni1hkszObRQ",
        "outputId": "fc557f8a-95e7-46c8-ad9f-44c9de6ba127"
      },
      "outputs": [],
      "source": [
        "from scipy import sparse\n",
        "x_train_complete = sparse.hstack([x,x_train])  \n",
        "x_test_complete = sparse.hstack([x,x_test])  "
      ]
    },
    {
      "cell_type": "code",
      "execution_count": null,
      "metadata": {
        "id": "rmP8I_J-Wnna"
      },
      "outputs": [],
      "source": [
        "# Use _complete for complete data\n",
        "rmfr = rf_clf(x_train, y)\n",
        "predrmfr = rmfr.predict(x_test)\n",
        "print(\"Confusion Matrix for Random Forest Classifier:\")\n",
        "print(confusion_matrix(y_test,predrmfr))\n",
        "print(\"Score:\",round(accuracy_score(y_test,predrmfr)*100,2))\n",
        "print(\"Classification Report:\",classification_report(y_test,predrmfr))"
      ]
    },
    {
      "cell_type": "code",
      "execution_count": null,
      "metadata": {
        "colab": {
          "base_uri": "https://localhost:8080/"
        },
        "id": "XCMplUqfWuso",
        "outputId": "24bbdc70-6fb0-433e-f3e9-121c7429216b"
      },
      "outputs": [],
      "source": [
        "# Use _complete for complete data\n",
        "dt = dt_clf(x_train, y)\n",
        "preddt = dt.predict(x_test)\n",
        "print(\"Confusion Matrix for Decision Tree:\")\n",
        "print(confusion_matrix(y_test,preddt))\n",
        "print(\"Score:\",round(accuracy_score(y_test,preddt)*100,2))\n",
        "print(\"Classification Report:\",classification_report(y_test,preddt))"
      ]
    },
    {
      "cell_type": "code",
      "execution_count": null,
      "metadata": {
        "colab": {
          "base_uri": "https://localhost:8080/"
        },
        "id": "9fhzdyDfXRG6",
        "outputId": "01b9de7c-43e5-4660-d02c-b311239ceac4"
      },
      "outputs": [],
      "source": [
        "# Use _complete for complete data\n",
        "svm = svm_clf(x_train, y)\n",
        "predsvm = svm.predict(x_test)\n",
        "print(\"Confusion Matrix for Support Vector Machines:\")\n",
        "print(confusion_matrix(y_test,predsvm))\n",
        "print(\"Score:\",round(accuracy_score(y_test,predsvm)*100,2))\n",
        "print(\"Classification Report:\",classification_report(y_test,predsvm))"
      ]
    },
    {
      "cell_type": "code",
      "execution_count": null,
      "metadata": {
        "colab": {
          "base_uri": "https://localhost:8080/"
        },
        "id": "Ha51GyijXz47",
        "outputId": "bf2f3776-5e01-4ed0-d8f9-05e6854d953c"
      },
      "outputs": [],
      "source": [
        "# Use _complete for complete data\n",
        "gbi = gb_clf(x_train, y)\n",
        "predgbi = gbi.predict(x_test)\n",
        "print(\"Confusion Matrix for Gradient Boosting Classifier:\")\n",
        "print(confusion_matrix(y_test,predgbi))\n",
        "print(\"Score:\",round(accuracy_score(y_test,predgbi)*100,2))\n",
        "print(\"Classification Report:\",classification_report(y_test,predgbi))"
      ]
    },
    {
      "cell_type": "code",
      "execution_count": null,
      "metadata": {
        "colab": {
          "base_uri": "https://localhost:8080/"
        },
        "id": "Ook5d4W0X3EG",
        "outputId": "52a7c701-b208-4875-f736-787df4036bd9"
      },
      "outputs": [],
      "source": [
        "# Use _complete for complete data\n",
        "knn = knn_clf(x_train, y)\n",
        "predknn = knn.predict(x_test)\n",
        "print(\"Confusion Matrix for K Neighbors Classifier:\")\n",
        "print(confusion_matrix(y_test,predknn))\n",
        "print(\"Score: \",round(accuracy_score(y_test,predknn)*100,2))\n",
        "print(\"Classification Report:\")\n",
        "print(classification_report(y_test,predknn))"
      ]
    },
    {
      "cell_type": "code",
      "execution_count": null,
      "metadata": {
        "colab": {
          "base_uri": "https://localhost:8080/"
        },
        "id": "btkBfs7GX-v7",
        "outputId": "80a86e7a-569d-4cd1-c73a-8b11945840ab"
      },
      "outputs": [],
      "source": [
        "# Use _complete for complete data\n",
        "mlp = mlp_clf(x_train, y)\n",
        "predmlp = mlp.predict(x_test)\n",
        "print(\"Confusion Matrix for Multilayer Perceptron Classifier:\")\n",
        "print(confusion_matrix(y_test,predmlp))\n",
        "print(\"Score:\",round(accuracy_score(y_test,predmlp)*100,2))\n",
        "print(\"Classification Report:\")\n",
        "print(classification_report(y_test,predmlp))"
      ]
    }
  ],
  "metadata": {
    "colab": {
      "collapsed_sections": [],
      "name": "BasicMLModels.ipynb",
      "provenance": []
    },
    "kernelspec": {
      "display_name": "Python 3",
      "name": "python3"
    },
    "language_info": {
      "name": "python"
    }
  },
  "nbformat": 4,
  "nbformat_minor": 0
}
